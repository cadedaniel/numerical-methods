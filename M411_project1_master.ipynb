{
  "nbformat": 4,
  "nbformat_minor": 0,
  "metadata": {
    "colab": {
      "name": "M411-project1-master.ipynb",
      "version": "0.3.2",
      "provenance": [],
      "include_colab_link": true
    },
    "kernelspec": {
      "name": "python3",
      "display_name": "Python 3"
    }
  },
  "cells": [
    {
      "cell_type": "markdown",
      "metadata": {
        "id": "view-in-github",
        "colab_type": "text"
      },
      "source": [
        "<a href=\"https://colab.research.google.com/github/cadedaniel/numerical-methods/blob/master/M411_project1_master.ipynb\" target=\"_parent\"><img src=\"https://colab.research.google.com/assets/colab-badge.svg\" alt=\"Open In Colab\"/></a>"
      ]
    },
    {
      "metadata": {
        "id": "3nLwS7K_4IAe",
        "colab_type": "code",
        "colab": {}
      },
      "cell_type": "code",
      "source": [
        ""
      ],
      "execution_count": 0,
      "outputs": []
    },
    {
      "metadata": {
        "id": "ajDW2lDE17_p",
        "colab_type": "text"
      },
      "cell_type": "markdown",
      "source": [
        "```\n",
        "Math 411 Project 1\n",
        "```\n",
        "\n",
        "**Name:**   \n",
        "\n",
        "Administrative:  You will need to do three things **before** you start working on your project:\n",
        "\n",
        "1. Save a copy in Drive (File, save a copy in Drive).\n",
        "2. Rename your project to M411-project1-Xxxxxx.ipynb where Xxxxxx is your last name (capitalize the first letter.)\n",
        "3. Share your project with me (mckay@mathematics.byu.edu). Use the Share button in the upper right.  Make sure I have edit access, in case I wish to leave comments.\n",
        " \n",
        "\n",
        "\n",
        "In a colab project, there are two types of cells.  There are **computational cells**, that contain python code, and output.  Also, there are **text** cells, which are {\\bfseries typeset} rather than executed.\n",
        "To insert a text cell, click on ''Text'' at the top of the window. This will give you a cell that you can type in.  If you wish to use latex inline, put the latex code between dollar signs, e.g. `$\\sin(x)$` to display $\\sin(x)$.  If you want display math, use double dollar signs.  As far as I can tell, you cannot use \\( \\} or \\[ \\] to display mathematics.\n",
        "\n",
        "Also, notice that you can rearrange cell order by using the cell up and down arrows.\n",
        "\n",
        "\n"
      ]
    },
    {
      "metadata": {
        "id": "-BlVyNWs7E1-",
        "colab_type": "text"
      },
      "cell_type": "markdown",
      "source": [
        "**Project 1**\n",
        "\n",
        "1. Recall that when we constructed Euler's method, that we took the differential equation and integrated both sides.  While the integral on the left was easy, the integral on the right was impossible to calculate without knowing the answer first.  Thus, we applied the Left Hand rule with one subinterval to approximate it.\n",
        "\n",
        "  In class, we also talked about integrating the right hand side using Trapezoid.\n",
        "\n",
        "  Find the marching method to approximate the differential equation by using Trapezoid on one interval."
      ]
    },
    {
      "metadata": {
        "id": "lk1OSLcE7sTy",
        "colab_type": "text"
      },
      "cell_type": "markdown",
      "source": [
        "2. Given what we know about the accuracy of Trapezoid compared to the Left Hand sum, we expect that this method will be $O(h^2)$.  Use Taylor series to verify this, or show what the actual truncation error will be."
      ]
    },
    {
      "metadata": {
        "id": "sLjj06HL79RE",
        "colab_type": "text"
      },
      "cell_type": "markdown",
      "source": [
        "3. Notice that there is a difficulty with this marching method, because the step we are solving for, $w_{i+1}$ appears on both sides of the equation.  So we have an equation that looks like\n",
        "  $$w_{i+1}=\\phi(t_i,t_{i+1},w_i,w_{i+1}).$$ This is called an **implicit marching scheme**.\n",
        "  What happens to the implicit marching scheme when you replace $w_{i+1}$ in the right hand side with $w_i$?"
      ]
    },
    {
      "metadata": {
        "id": "w9NhPUrx8pXc",
        "colab_type": "text"
      },
      "cell_type": "markdown",
      "source": [
        "4.  One way to attack the problem given above is to use a **fixed point iteration**.  If you are looking to find a solution to the equation $x=f(x)$, one possible technique is to start with an initial guess $x_0$, and then to construct a sequence given by $x_{i+1}=f(x_i)$.\n",
        "Construct an algorithm for the implicit marching scheme discussed in part 1, where at each step, the iterative technique is used, where $x_0$ comes from one Euler step.  Write the algorithm in pseudo-code as is given in the book. Stop the fixed point iteration when the difference between iterations is less than $\\epsilon$."
      ]
    },
    {
      "metadata": {
        "id": "8kWxIDKU9Bb1",
        "colab_type": "text"
      },
      "cell_type": "markdown",
      "source": [
        "5. Solve the following differential equation using your technique:\n",
        "  $$y'=ty,\\ y(0)=1.$$\n",
        "  Use $h=0.1$ and $\\epsilon=0.001$.  What is the largest number of iterations needed at each step?  What is the smallest? What is the average?"
      ]
    },
    {
      "metadata": {
        "id": "QQTm7dFS-Hkg",
        "colab_type": "text"
      },
      "cell_type": "markdown",
      "source": [
        "6. Compare your solution to Euler, and to the Midpoint method.  What do you see?"
      ]
    },
    {
      "metadata": {
        "id": "AZvNJI2x16pz",
        "colab_type": "code",
        "colab": {}
      },
      "cell_type": "code",
      "source": [
        ""
      ],
      "execution_count": 0,
      "outputs": []
    }
  ]
}